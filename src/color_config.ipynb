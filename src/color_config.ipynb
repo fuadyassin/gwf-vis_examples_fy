{
 "cells": [
  {
   "cell_type": "code",
   "execution_count": null,
   "id": "699c34c8",
   "metadata": {},
   "outputs": [],
   "source": [
    "! pip install git+https://github.com/vga-team/py-lib.git\n",
    "! pip install git+https://github.com/vga-team/gwf-vis_lib.git"
   ]
  },
  {
   "cell_type": "code",
   "execution_count": null,
   "id": "c4cf4159",
   "metadata": {
    "title": "import"
   },
   "outputs": [],
   "source": [
    "import vga\n",
    "from gwfvis import conf as gwfvisconf\n",
    "import json\n",
    "import os"
   ]
  },
  {
   "cell_type": "code",
   "execution_count": null,
   "id": "84fb68a3",
   "metadata": {
    "title": "config"
   },
   "outputs": [],
   "source": [
    "vis_config = gwfvisconf.create_config()\n",
    "vga.set_view(vis_config, center=[51.3, -116], zoom=10)\n",
    "vga.set_page_title(vis_config, \"GWF-VIS Color Config\")"
   ]
  },
  {
   "cell_type": "code",
   "execution_count": null,
   "id": "47a88ddd",
   "metadata": {
    "title": "setup data provider"
   },
   "outputs": [],
   "source": [
    "data_provider_plugin = vga.add_plugin(\n",
    "    vis_config, name=gwfvisconf.PluginNames.SQLITE_LOCAL_DATA_PROVIDER\n",
    ")\n",
    "data_provider_plugin = vga.add_plugin(\n",
    "    vis_config, name=gwfvisconf.PluginNames.GWFVISDB_DATA_PROVIDER\n",
    ")"
   ]
  },
  {
   "cell_type": "code",
   "execution_count": null,
   "id": "e2b2f8b0",
   "metadata": {
    "title": "define color scheme"
   },
   "outputs": [],
   "source": [
    "color_scheme = {\n",
    "    \"\": {  # '' is for default (any variables that is not defined here)\n",
    "        # here we use a quantize scale for custom array of colors\n",
    "        \"type\": \"sequential\",\n",
    "        \"scheme\": \"schemeYlGnBu[9]\",\n",
    "    },\n",
    "    \"scalarCanopyWat\": {  # color definition for scalarCanopyWat only\n",
    "        # here we use a quantile scale for custom array of colors\n",
    "        \"type\": \"quantile\",\n",
    "        \"scheme\": [\"blue\", \"green\", \"yellow\", \"red\"],\n",
    "    },\n",
    "    \"scalarSWE\": {  # color definition for scalarSWE only\n",
    "        # here we use a sequential scale for custom array of colors\n",
    "        \"type\": \"sequential\",\n",
    "        \"scheme\": \"schemeYlGnBu[9]\",\n",
    "    },\n",
    "    \"scalarTotalIET\": {  # color definition for scalarTotalIET only\n",
    "        # here we use a quantize scale for builtin color scheme, the builtin scheme names can be found at https://github.com/d3/d3-scale-chromatic\n",
    "        \"type\": \"quantize\",\n",
    "        # use a single string instead of an array means to use the built in scheme\n",
    "        \"scheme\": \"schemeOranges[5]\",\n",
    "    },\n",
    "    \"scalarTotalRunoff\": {  # color definition for scalarTotalRunoff only\n",
    "        # here we use a sequential scale for builtin color scheme, the builtin scheme names can be found at https://github.com/d3/d3-scale-chromatic\n",
    "        \"type\": \"sequential\",\n",
    "        # use a single string instead of an array means to use the built in scheme, note that for sequntial, you have to use interpolate colors\n",
    "        \"scheme\": \"schemeYlGnBu[9]\",\n",
    "    },\n",
    "}"
   ]
  },
  {
   "cell_type": "code",
   "execution_count": null,
   "id": "b06e3075",
   "metadata": {
    "lines_to_next_cell": 0,
    "title": "add SUMMA layer"
   },
   "outputs": [],
   "source": [
    "data_source = \"gwfvisdb:https://gwf-vis.usask.ca/assets/datasets/catchment.gwfvisdb\"\n",
    "summa_layer = vga.add_plugin(\n",
    "    config=vis_config, name=gwfvisconf.PluginNames.GEOJSON_LAYER\n",
    ")\n",
    "vga.set_plugin_props(\n",
    "    summa_layer,\n",
    "    {\n",
    "        \"displayName\": \"SUMMA\",\n",
    "        \"layerType\": \"overlay\",\n",
    "        \"active\": True,\n",
    "        \"colorScheme\": color_scheme,\n",
    "    },\n",
    ")"
   ]
  },
  {
   "cell_type": "code",
   "execution_count": null,
   "id": "9c913de8",
   "metadata": {
    "title": "add data control"
   },
   "outputs": [],
   "source": [
    "data_control = vga.add_plugin(\n",
    "    config=vis_config,\n",
    "    name=gwfvisconf.PluginNames.DATA_CONTROL,\n",
    "    container=\"main\",\n",
    "    props={\"dataSources\": [data_source], \"dataSourceDict\": {\"SUMMA\": data_source}},\n",
    ")"
   ]
  },
  {
   "cell_type": "code",
   "execution_count": null,
   "id": "029600b4",
   "metadata": {
    "title": "add legend"
   },
   "outputs": [],
   "source": [
    "metadata = vga.add_plugin(\n",
    "    config=vis_config,\n",
    "    name=gwfvisconf.PluginNames.LEGEND,\n",
    "    container=\"main\",\n",
    "    props={\"colorScheme\": color_scheme},\n",
    "    container_props={\"width\": \"20rem\"},\n",
    ")"
   ]
  },
  {
   "cell_type": "code",
   "execution_count": null,
   "id": "ee53e438",
   "metadata": {
    "title": "option1: print the config JSON"
   },
   "outputs": [],
   "source": [
    "print(json.dumps(vis_config))"
   ]
  },
  {
   "cell_type": "code",
   "execution_count": null,
   "id": "d8f0869b",
   "metadata": {
    "title": "option2: print the URL"
   },
   "outputs": [],
   "source": [
    "print(vga.generate_vis_url(vis_config))"
   ]
  },
  {
   "cell_type": "code",
   "execution_count": null,
   "id": "47264cda",
   "metadata": {
    "title": "option3: save as a config file"
   },
   "outputs": [],
   "source": [
    "config_directory = \"../out\"\n",
    "config_file_name = \"color_config.vgaconf\"\n",
    "if not os.path.exists(config_directory):\n",
    "    os.makedirs(config_directory)\n",
    "with open(f\"{config_directory}/{config_file_name}\", 'w') as file:\n",
    "    file.write(json.dumps(vis_config))"
   ]
  },
  {
   "cell_type": "code",
   "execution_count": null,
   "id": "26c32dc5",
   "metadata": {},
   "outputs": [],
   "source": []
  }
 ],
 "metadata": {
  "jupytext": {
   "cell_metadata_filter": "title,-all",
   "main_language": "python",
   "notebook_metadata_filter": "-all"
  }
 },
 "nbformat": 4,
 "nbformat_minor": 5
}
