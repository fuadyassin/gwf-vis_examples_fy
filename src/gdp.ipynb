{
 "cells": [
  {
   "cell_type": "code",
   "execution_count": null,
   "id": "b78a3e41",
   "metadata": {},
   "outputs": [],
   "source": [
    "! pip install git+https://github.com/vga-team/py-lib.git\n",
    "! pip install git+https://github.com/vga-team/gwf-vis_lib.git"
   ]
  },
  {
   "cell_type": "code",
   "execution_count": null,
   "id": "118f797e",
   "metadata": {
    "title": "import"
   },
   "outputs": [],
   "source": [
    "import vga\n",
    "from gwfvis import conf as gwfvisconf\n",
    "import json\n",
    "import os"
   ]
  },
  {
   "cell_type": "code",
   "execution_count": null,
   "id": "8007e7e7",
   "metadata": {
    "title": "config"
   },
   "outputs": [],
   "source": [
    "vis_config = gwfvisconf.create_config()\n",
    "vga.set_view(vis_config, center=[0, 0], zoom=2)\n",
    "vga.set_page_title(vis_config, \"GWF-VIS GDP\")"
   ]
  },
  {
   "cell_type": "code",
   "execution_count": null,
   "id": "bd5d5a33",
   "metadata": {
    "title": "setup data provider"
   },
   "outputs": [],
   "source": [
    "data_provider_plugin = vga.add_plugin(\n",
    "    vis_config, name=gwfvisconf.PluginNames.SQLITE_LOCAL_DATA_PROVIDER\n",
    ")\n",
    "data_provider_plugin = vga.add_plugin(\n",
    "    vis_config, name=gwfvisconf.PluginNames.GWFVISDB_DATA_PROVIDER\n",
    ")"
   ]
  },
  {
   "cell_type": "code",
   "execution_count": null,
   "id": "0f93a7f2",
   "metadata": {
    "title": "define color scheme"
   },
   "outputs": [],
   "source": [
    "color_scheme = {\"\": {\"type\": \"quantile\", \"scheme\": [\"blue\", \"green\", \"yellow\", \"red\"]}}"
   ]
  },
  {
   "cell_type": "code",
   "execution_count": null,
   "id": "59a4a25f",
   "metadata": {
    "lines_to_next_cell": 0,
    "title": "add GDP layer"
   },
   "outputs": [],
   "source": [
    "data_source = \"gwfvisdb:https://gwf-vis.usask.ca/assets/datasets/gdp.gwfvisdb\"\n",
    "gdp_layer = vga.add_plugin(config=vis_config, name=gwfvisconf.PluginNames.GEOJSON_LAYER)\n",
    "vga.set_plugin_props(\n",
    "    gdp_layer,\n",
    "    {\n",
    "        \"displayName\": \"GDP\",\n",
    "        \"layerType\": \"overlay\",\n",
    "        \"active\": True,\n",
    "        \"colorScheme\": color_scheme,\n",
    "    },\n",
    ")"
   ]
  },
  {
   "cell_type": "code",
   "execution_count": null,
   "id": "61497112",
   "metadata": {
    "title": "add data control"
   },
   "outputs": [],
   "source": [
    "data_control = vga.add_plugin(\n",
    "    config=vis_config,\n",
    "    name=gwfvisconf.PluginNames.DATA_CONTROL,\n",
    "    container=\"main\",\n",
    "    props={\"dataSources\": [data_source], \"dataSourceDict\": {\"GDP\": data_source}},\n",
    ")"
   ]
  },
  {
   "cell_type": "code",
   "execution_count": null,
   "id": "fae52891",
   "metadata": {
    "title": "add metadata"
   },
   "outputs": [],
   "source": [
    "metadata = vga.add_plugin(\n",
    "    config=vis_config,\n",
    "    name=gwfvisconf.PluginNames.METADATA,\n",
    "    container=\"sidebar\",\n",
    "    container_props={\"slot\": \"top\"},\n",
    ")"
   ]
  },
  {
   "cell_type": "code",
   "execution_count": null,
   "id": "ae604b62",
   "metadata": {
    "title": "add line chart"
   },
   "outputs": [],
   "source": [
    "metadata = vga.add_plugin(\n",
    "    config=vis_config,\n",
    "    name=gwfvisconf.PluginNames.LINE_CHART,\n",
    "    container=\"sidebar\",\n",
    "    props={\n",
    "        \"dataFor\": {\n",
    "            \"variableName\": \"GDP\",\n",
    "            \"dimensionName\": \"time\",\n",
    "            \"dataSource\": data_source,\n",
    "        },\n",
    "        \"locationLabelKey\": \"ADMIN\",\n",
    "    },\n",
    ")"
   ]
  },
  {
   "cell_type": "code",
   "execution_count": null,
   "id": "6ae39da6",
   "metadata": {
    "title": "option1: print the config JSON"
   },
   "outputs": [],
   "source": [
    "print(json.dumps(vis_config))"
   ]
  },
  {
   "cell_type": "code",
   "execution_count": null,
   "id": "4d273bae",
   "metadata": {
    "title": "option2: print the URL"
   },
   "outputs": [],
   "source": [
    "print(vga.generate_vis_url(vis_config))"
   ]
  },
  {
   "cell_type": "code",
   "execution_count": null,
   "id": "9118a6da",
   "metadata": {
    "title": "option3: save as a config file"
   },
   "outputs": [],
   "source": [
    "config_directory = \"../out\"\n",
    "config_file_name = \"gdp.vgaconf\"\n",
    "if not os.path.exists(config_directory):\n",
    "    os.makedirs(config_directory)\n",
    "with open(f\"{config_directory}/{config_file_name}\", 'w') as file:\n",
    "    file.write(json.dumps(vis_config))"
   ]
  },
  {
   "cell_type": "code",
   "execution_count": null,
   "id": "0dad11b6",
   "metadata": {},
   "outputs": [],
   "source": []
  }
 ],
 "metadata": {
  "jupytext": {
   "cell_metadata_filter": "title,-all",
   "main_language": "python",
   "notebook_metadata_filter": "-all"
  }
 },
 "nbformat": 4,
 "nbformat_minor": 5
}
