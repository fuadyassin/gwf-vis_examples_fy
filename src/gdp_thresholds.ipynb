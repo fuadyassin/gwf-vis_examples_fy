{
 "cells": [
  {
   "cell_type": "code",
   "execution_count": null,
   "id": "d036a190",
   "metadata": {},
   "outputs": [],
   "source": [
    "! pip install git+https://github.com/vga-team/py-lib.git\n",
    "! pip install git+https://github.com/vga-team/gwf-vis_lib.git"
   ]
  },
  {
   "cell_type": "code",
   "execution_count": null,
   "id": "fa5386c2",
   "metadata": {
    "title": "import"
   },
   "outputs": [],
   "source": [
    "import vga\n",
    "from gwfvis import conf as gwfvisconf, db as gwfvisdb\n",
    "import json\n",
    "import urllib.request\n",
    "import os\n",
    "import numpy as np"
   ]
  },
  {
   "cell_type": "code",
   "execution_count": null,
   "id": "99c80748",
   "metadata": {
    "title": "config"
   },
   "outputs": [],
   "source": [
    "vis_config = gwfvisconf.create_config()\n",
    "vga.set_view(vis_config, center=[0, 0], zoom=2)\n",
    "vga.set_page_title(vis_config, \"GWF-VIS GDP (thresholds)\")"
   ]
  },
  {
   "cell_type": "code",
   "execution_count": null,
   "id": "a3851784",
   "metadata": {
    "lines_to_next_cell": 2,
    "title": "setup data provider"
   },
   "outputs": [],
   "source": [
    "data_provider_plugin = vga.add_plugin(\n",
    "    vis_config, name=gwfvisconf.PluginNames.SQLITE_LOCAL_DATA_PROVIDER\n",
    ")\n",
    "data_provider_plugin = vga.add_plugin(\n",
    "    vis_config, name=gwfvisconf.PluginNames.GWFVISDB_DATA_PROVIDER\n",
    ")"
   ]
  },
  {
   "cell_type": "code",
   "execution_count": null,
   "id": "bb943334",
   "metadata": {
    "title": "download the gwfvisdb file"
   },
   "outputs": [],
   "source": [
    "gwfvisdb_url = \"https://gwf-vis.usask.ca/assets/datasets/gdp.gwfvisdb\"\n",
    "gwfvisdb_path = \"../temp/_.gwfvisdb\"\n",
    "gwfvisdb_directory = os.path.dirname(gwfvisdb_path)\n",
    "if not os.path.exists(gwfvisdb_directory):\n",
    "    os.makedirs(gwfvisdb_directory)\n",
    "urllib.request.urlretrieve(gwfvisdb_url, gwfvisdb_path)"
   ]
  },
  {
   "cell_type": "code",
   "execution_count": null,
   "id": "768ff92d",
   "metadata": {
    "title": "read the db file"
   },
   "outputs": [],
   "source": [
    "options = gwfvisdb.read_gwfvis_db(gwfvisdb_path)"
   ]
  },
  {
   "cell_type": "code",
   "execution_count": null,
   "id": "1b5dc3cb",
   "metadata": {
    "title": "calculate quantiles"
   },
   "outputs": [],
   "source": [
    "values = options.values\n",
    "values_for_variable = list(\n",
    "    map(lambda x: x.value, filter(lambda x: x.variable.name == \"GDP\", options.values))\n",
    ")\n",
    "quantiles = [\n",
    "    np.quantile(values_for_variable, 0),\n",
    "    np.quantile(values_for_variable, 0.25),\n",
    "    np.quantile(values_for_variable, 0.5),\n",
    "    np.quantile(values_for_variable, 0.75),\n",
    "    np.quantile(values_for_variable, 1),\n",
    "]"
   ]
  },
  {
   "cell_type": "code",
   "execution_count": null,
   "id": "b1578259",
   "metadata": {
    "title": "define color scheme"
   },
   "outputs": [],
   "source": [
    "color_scheme = {\n",
    "    \"\": {\n",
    "        \"type\": \"threshold\",\n",
    "        \"scheme\": [\"blue\", \"green\", \"yellow\", \"red\"],\n",
    "        \"thresholds\": quantiles,\n",
    "    }\n",
    "}"
   ]
  },
  {
   "cell_type": "code",
   "execution_count": null,
   "id": "3e9113be",
   "metadata": {
    "lines_to_next_cell": 0,
    "title": "add GDP layer"
   },
   "outputs": [],
   "source": [
    "data_source = f\"gwfvisdb:{gwfvisdb_url}\"\n",
    "gdp_layer = vga.add_plugin(config=vis_config, name=gwfvisconf.PluginNames.GEOJSON_LAYER)\n",
    "vga.set_plugin_props(\n",
    "    gdp_layer,\n",
    "    {\n",
    "        \"displayName\": \"GDP\",\n",
    "        \"layerType\": \"overlay\",\n",
    "        \"active\": True,\n",
    "        \"colorScheme\": color_scheme,\n",
    "    },\n",
    ")"
   ]
  },
  {
   "cell_type": "code",
   "execution_count": null,
   "id": "ab1f1fc7",
   "metadata": {
    "title": "add data control"
   },
   "outputs": [],
   "source": [
    "data_control = vga.add_plugin(\n",
    "    config=vis_config,\n",
    "    name=gwfvisconf.PluginNames.DATA_CONTROL,\n",
    "    container=\"main\",\n",
    "    props={\"dataSources\": [data_source], \"dataSourceDict\": {\"GDP\": data_source}},\n",
    ")"
   ]
  },
  {
   "cell_type": "code",
   "execution_count": null,
   "id": "b0d73ef0",
   "metadata": {
    "title": "add metadata"
   },
   "outputs": [],
   "source": [
    "metadata = vga.add_plugin(\n",
    "    config=vis_config,\n",
    "    name=gwfvisconf.PluginNames.METADATA,\n",
    "    container=\"sidebar\",\n",
    "    container_props={\"slot\": \"top\"},\n",
    ")"
   ]
  },
  {
   "cell_type": "code",
   "execution_count": null,
   "id": "ee68e37d",
   "metadata": {
    "title": "add line chart"
   },
   "outputs": [],
   "source": [
    "metadata = vga.add_plugin(\n",
    "    config=vis_config,\n",
    "    name=gwfvisconf.PluginNames.LINE_CHART,\n",
    "    container=\"sidebar\",\n",
    "    props={\n",
    "        \"dataFor\": {\n",
    "            \"variableName\": \"GDP\",\n",
    "            \"dimensionName\": \"time\",\n",
    "            \"dataSource\": data_source,\n",
    "        },\n",
    "        \"locationLabelKey\": \"ADMIN\",\n",
    "    },\n",
    ")"
   ]
  },
  {
   "cell_type": "code",
   "execution_count": null,
   "id": "910602df",
   "metadata": {
    "title": "option1: print the config JSON"
   },
   "outputs": [],
   "source": [
    "print(json.dumps(vis_config))"
   ]
  },
  {
   "cell_type": "code",
   "execution_count": null,
   "id": "f677ff51",
   "metadata": {
    "title": "option2: print the URL"
   },
   "outputs": [],
   "source": [
    "print(vga.generate_vis_url(vis_config))"
   ]
  },
  {
   "cell_type": "code",
   "execution_count": null,
   "id": "f43fbea1",
   "metadata": {
    "title": "option3: save as a config file"
   },
   "outputs": [],
   "source": [
    "config_directory = \"../out\"\n",
    "config_file_name = \"gdp_thresholds.vgaconf\"\n",
    "if not os.path.exists(config_directory):\n",
    "    os.makedirs(config_directory)\n",
    "with open(f\"{config_directory}/{config_file_name}\", \"w\") as file:\n",
    "    file.write(json.dumps(vis_config))"
   ]
  },
  {
   "cell_type": "code",
   "execution_count": null,
   "id": "0f8881bd",
   "metadata": {},
   "outputs": [],
   "source": []
  }
 ],
 "metadata": {
  "jupytext": {
   "cell_metadata_filter": "title,-all",
   "main_language": "python",
   "notebook_metadata_filter": "-all"
  }
 },
 "nbformat": 4,
 "nbformat_minor": 5
}
