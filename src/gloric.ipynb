{
 "cells": [
  {
   "cell_type": "code",
   "execution_count": null,
   "id": "439e1022",
   "metadata": {},
   "outputs": [],
   "source": [
    "! pip install git+https://github.com/vga-team/py-lib.git\n",
    "! pip install git+https://github.com/vga-team/gwf-vis_lib.git"
   ]
  },
  {
   "cell_type": "code",
   "execution_count": null,
   "id": "961c16f4",
   "metadata": {
    "title": "import"
   },
   "outputs": [],
   "source": [
    "import vga\n",
    "from gwfvis import conf as gwfvisconf\n",
    "import json\n",
    "import os"
   ]
  },
  {
   "cell_type": "code",
   "execution_count": null,
   "id": "633cbfc9",
   "metadata": {
    "title": "config"
   },
   "outputs": [],
   "source": [
    "vis_config = gwfvisconf.create_config()\n",
    "vga.set_view(vis_config, center=[51.5, -107], zoom=7)\n",
    "vga.set_prefer_canvas(vis_config, True)\n",
    "vga.set_page_title(vis_config, \"GWF-VIS GloRiC\")"
   ]
  },
  {
   "cell_type": "code",
   "execution_count": null,
   "id": "0b19b638",
   "metadata": {
    "title": "define color scheme"
   },
   "outputs": [],
   "source": [
    "color_scheme = {\n",
    "    \"gwfvisdb:https://gwf-vis.usask.ca/assets/datasets/gloric.gwfvisdb\": {\n",
    "        \"\": {\n",
    "            \"type\": \"quantile\",\n",
    "            \"scheme\": \"schemeGnBu[9]\",\n",
    "        },\n",
    "        \"Temp_av\": {\n",
    "            \"type\": \"quantile\",\n",
    "            \"scheme\": \"schemeOrRd[9]\",\n",
    "        },\n",
    "    },\n",
    "}"
   ]
  },
  {
   "cell_type": "code",
   "execution_count": null,
   "id": "f524414d",
   "metadata": {
    "title": "define data source"
   },
   "outputs": [],
   "source": [
    "data_source = \"gwfvisdb:https://gwf-vis.usask.ca/assets/datasets/gloric.gwfvisdb\"\n",
    "data_source_dict = {\"GLORIC\": data_source}"
   ]
  },
  {
   "cell_type": "code",
   "execution_count": null,
   "id": "0154ff58",
   "metadata": {
    "title": "setup data provider"
   },
   "outputs": [],
   "source": [
    "data_provider_plugin = vga.add_plugin(\n",
    "    vis_config, name=gwfvisconf.PluginNames.SQLITE_LOCAL_DATA_PROVIDER\n",
    ")\n",
    "data_provider_plugin = vga.add_plugin(\n",
    "    vis_config, name=gwfvisconf.PluginNames.GWFVISDB_DATA_PROVIDER\n",
    ")"
   ]
  },
  {
   "cell_type": "code",
   "execution_count": null,
   "id": "19bb1a2c",
   "metadata": {},
   "outputs": [],
   "source": [
    "tile_layer = vga.add_plugin(\n",
    "    config=vis_config, name=gwfvisconf.PluginNames.TILE_LAYER\n",
    ")\n",
    "vga.set_plugin_props(\n",
    "    tile_layer,\n",
    "    {\n",
    "        \"displayName\": \"Street\",\n",
    "        \"layerType\": \"base-layer\",\n",
    "        \"active\": True,\n",
    "        \"urlTemplate\": \"https://server.arcgisonline.com/arcgis/rest/services/World_Street_Map/MapServer/tile/{z}/{y}/{x}\"\n",
    "    },\n",
    ")"
   ]
  },
  {
   "cell_type": "code",
   "execution_count": null,
   "id": "96428299",
   "metadata": {
    "title": "add GLORIC layer"
   },
   "outputs": [],
   "source": [
    "gloric_layer = vga.add_plugin(\n",
    "    config=vis_config, name=gwfvisconf.PluginNames.GEOJSON_LAYER\n",
    ")\n",
    "vga.set_plugin_props(\n",
    "    gloric_layer,\n",
    "    {\n",
    "        \"displayName\": \"GLORIC\",\n",
    "        \"layerType\": \"overlay\",\n",
    "        \"active\": True,\n",
    "        \"colorScheme\": color_scheme,\n",
    "    },\n",
    ")"
   ]
  },
  {
   "cell_type": "code",
   "execution_count": null,
   "id": "5a60534a",
   "metadata": {
    "title": "add data control"
   },
   "outputs": [],
   "source": [
    "data_control = vga.add_plugin(\n",
    "    config=vis_config,\n",
    "    name=gwfvisconf.PluginNames.DATA_CONTROL,\n",
    "    container=\"main\",\n",
    "    props={\n",
    "        \"dataSources\": [data_source],\n",
    "        \"dataSourceDict\": data_source_dict,\n",
    "        \"enableSecondaryVariable\": True,\n",
    "        \"enableTertiaryVariable\": True,\n",
    "        \"primaryVariableLabel\": \"Variable (Fill)\",\n",
    "        \"secondaryVariableLabel\": \"Variable (Stroke)\",\n",
    "        \"tertiaryVariableLabel\": \"Variable (Stroke Weight)\",\n",
    "    },\n",
    ")"
   ]
  },
  {
   "cell_type": "code",
   "execution_count": null,
   "id": "85897aca",
   "metadata": {
    "title": "add markdown"
   },
   "outputs": [],
   "source": [
    "iframe_src = (\n",
    "    \"https://gwf-vis.usask.ca\"\n",
    ")\n",
    "markdown = vga.add_plugin(\n",
    "    config=vis_config,\n",
    "    name=gwfvisconf.PluginNames.MARKDOWN,\n",
    "    container=\"sidebar\",\n",
    "    container_props={\"slot\": \"top\"},\n",
    "    props={\n",
    "        \"header\": \"Info\",\n",
    "        \"markdown\": f'<iframe src=\"{iframe_src}\" style=\"height: 100%; width: 100%; min-height: 500px;\" />',\n",
    "    },\n",
    ")"
   ]
  },
  {
   "cell_type": "code",
   "execution_count": null,
   "id": "52a35f8f",
   "metadata": {
    "title": "add metadata"
   },
   "outputs": [],
   "source": [
    "metadata = vga.add_plugin(\n",
    "    config=vis_config, name=gwfvisconf.PluginNames.METADATA, container=\"sidebar\"\n",
    ")"
   ]
  },
  {
   "cell_type": "code",
   "execution_count": null,
   "id": "56f05c31",
   "metadata": {
    "title": "add legend"
   },
   "outputs": [],
   "source": [
    "legend = vga.add_plugin(\n",
    "    config=vis_config,\n",
    "    name=gwfvisconf.PluginNames.LEGEND,\n",
    "    props={\n",
    "        \"enableSecondaryVariable\": True,\n",
    "        \"enableTertiaryVariable\": True,\n",
    "        \"colorScheme\": color_scheme,\n",
    "    },\n",
    "    container=\"main\",\n",
    "    container_props={\"width\": \"20rem\"},\n",
    ")"
   ]
  },
  {
   "cell_type": "code",
   "execution_count": null,
   "id": "5c2a9a44",
   "metadata": {
    "title": "option1: print the config JSON"
   },
   "outputs": [],
   "source": [
    "print(json.dumps(vis_config))"
   ]
  },
  {
   "cell_type": "code",
   "execution_count": null,
   "id": "c1bc58d4",
   "metadata": {
    "title": "option2: print the URL"
   },
   "outputs": [],
   "source": [
    "print(vga.generate_vis_url(vis_config))"
   ]
  },
  {
   "cell_type": "code",
   "execution_count": null,
   "id": "e798100f",
   "metadata": {
    "title": "option3: save as a config file"
   },
   "outputs": [],
   "source": [
    "config_directory = \"../out\"\n",
    "config_file_name = \"gloric.vgaconf\"\n",
    "if not os.path.exists(config_directory):\n",
    "    os.makedirs(config_directory)\n",
    "with open(f\"{config_directory}/{config_file_name}\", \"w\") as file:\n",
    "    file.write(json.dumps(vis_config))"
   ]
  },
  {
   "cell_type": "code",
   "execution_count": null,
   "id": "3d657555",
   "metadata": {},
   "outputs": [],
   "source": []
  }
 ],
 "metadata": {
  "jupytext": {
   "cell_metadata_filter": "title,-all",
   "main_language": "python",
   "notebook_metadata_filter": "-all"
  }
 },
 "nbformat": 4,
 "nbformat_minor": 5
}
