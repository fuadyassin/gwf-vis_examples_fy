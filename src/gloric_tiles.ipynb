{
 "cells": [
  {
   "cell_type": "code",
   "execution_count": null,
   "id": "f2387db1",
   "metadata": {},
   "outputs": [],
   "source": [
    "! pip install git+https://github.com/vga-team/py-lib.git\n",
    "! pip install git+https://github.com/vga-team/gwf-vis_lib.git"
   ]
  },
  {
   "cell_type": "code",
   "execution_count": null,
   "id": "0e3e94ec",
   "metadata": {
    "title": "import"
   },
   "outputs": [],
   "source": [
    "import vga\n",
    "from gwfvis import conf as gwfvisconf\n",
    "import json\n",
    "import os"
   ]
  },
  {
   "cell_type": "code",
   "execution_count": null,
   "id": "a432595f",
   "metadata": {
    "title": "basic config"
   },
   "outputs": [],
   "source": [
    "GLORIC_DEMO_BASE_URL = \"https://gwf-vis.usask.ca/assets/demo_gloric-app/app/\"\n",
    "vis_config = gwfvisconf.create_config()\n",
    "vga.set_view(vis_config, center=[51, -116], zoom=5)\n",
    "vga.set_prefer_canvas(vis_config, True)\n",
    "vga.set_page_title(vis_config, \"GWF-VIS GloRiC Tiles\")\n",
    "vga.set_favicon(\n",
    "    vis_config,\n",
    "    \"https://assets-global.website-files.com/602eb43d42a3b5553a4f134c/6244bf4e6fe355c3bde76dbe_Favicon-32.png\",\n",
    ")"
   ]
  },
  {
   "cell_type": "code",
   "execution_count": null,
   "id": "a7d8db11",
   "metadata": {
    "title": "import custom plugins"
   },
   "outputs": [],
   "source": [
    "GL_LAYER_URL = f\"{GLORIC_DEMO_BASE_URL}plugins/gl-layer.plugin.js\"\n",
    "GL_LAYER_NAME = \"gloric-demo.gl-layer\"\n",
    "vga.import_plugin(vis_config, name=GL_LAYER_NAME, url=GL_LAYER_URL)"
   ]
  },
  {
   "cell_type": "code",
   "execution_count": null,
   "id": "224dcf53",
   "metadata": {
    "lines_to_next_cell": 2,
    "title": "add raster layer"
   },
   "outputs": [],
   "source": [
    "raster_layer = vga.add_plugin(config=vis_config, name=gwfvisconf.PluginNames.TILE_LAYER)\n",
    "vga.set_plugin_props(\n",
    "    raster_layer,\n",
    "    {\n",
    "        \"displayName\": \"Raster\",\n",
    "        \"type\": \"overlay\",\n",
    "        \"active\": False,\n",
    "        \"urlTemplate\": f\"{GLORIC_DEMO_BASE_URL}tilesets/gloric_ca_raster/{{z}}/{{x}}/{{y}}.png\",\n",
    "    },\n",
    ")"
   ]
  },
  {
   "cell_type": "code",
   "execution_count": null,
   "id": "da821d58",
   "metadata": {
    "title": "add gl layer"
   },
   "outputs": [],
   "source": [
    "gl_layer = vga.add_plugin(config=vis_config, name=GL_LAYER_NAME)\n",
    "gl_layer_style = {  # https://maplibre.org/maplibre-style-spec/\n",
    "    \"version\": 8,\n",
    "    \"sources\": {\n",
    "        \"overlay\": {\n",
    "            \"type\": \"vector\",\n",
    "            \"tiles\": [\n",
    "                f\"{GLORIC_DEMO_BASE_URL}tilesets/gloric_ca_vector/{{z}}/{{x}}/{{y}}.pbf\"\n",
    "            ],\n",
    "            \"errorTileURL\": \"data:application/x-protobuf;base64,\",\n",
    "            \"minzoom\": 1,\n",
    "            \"maxzoom\": 6,\n",
    "        }\n",
    "    },\n",
    "    \"layers\": [\n",
    "        {\n",
    "            \"id\": \"overlay\",\n",
    "            \"source\": \"overlay\",\n",
    "            \"source-layer\": \"gloric\",\n",
    "            \"type\": \"line\",\n",
    "            \"paint\": {\n",
    "                \"line-color\": [\n",
    "                    \"case\",\n",
    "                    [\"==\", [\"get\", \"Temp_av\"], None],\n",
    "                    \"hsl(0, 100%, 30%)\",\n",
    "                    [\"<=\", [\"get\", \"Temp_av\"], 33.9],\n",
    "                    \"hsl(0, 100%, 100%)\",\n",
    "                    [\"<=\", [\"get\", \"Temp_av\"], 38.6],\n",
    "                    \"hsl(0, 100%, 95%)\",\n",
    "                    [\"<=\", [\"get\", \"Temp_av\"], 41.6],\n",
    "                    \"hsl(0, 100%, 90%)\",\n",
    "                    [\"<=\", [\"get\", \"Temp_av\"], 44.1],\n",
    "                    \"hsl(0, 100%, 85%)\",\n",
    "                    [\"<=\", [\"get\", \"Temp_av\"], 45.7],\n",
    "                    \"hsl(0, 100%, 80%)\",\n",
    "                    [\"<=\", [\"get\", \"Temp_av\"], 47.0],\n",
    "                    \"hsl(0, 100%, 75%)\",\n",
    "                    [\"<=\", [\"get\", \"Temp_av\"], 48.8],\n",
    "                    \"hsl(0, 100%, 70%)\",\n",
    "                    [\"<=\", [\"get\", \"Temp_av\"], 50.4],\n",
    "                    \"hsl(0, 100%, 65%)\",\n",
    "                    [\"<=\", [\"get\", \"Temp_av\"], 52.0],\n",
    "                    \"hsl(0, 100%, 60%)\",\n",
    "                    [\"<=\", [\"get\", \"Temp_av\"], 56.8],\n",
    "                    \"hsl(0, 100%, 55%)\",\n",
    "                    \"hsl(0, 100%, 50%)\",\n",
    "                ],\n",
    "                \"line-opacity\": 0.75,\n",
    "                \"line-width\": [\n",
    "                    \"case\",\n",
    "                    [\"==\", [\"get\", \"Log_spow\"], None],\n",
    "                    2,\n",
    "                    [\"<=\", [\"get\", \"Log_spow\"], 2],\n",
    "                    2,\n",
    "                    [\"<=\", [\"get\", \"Log_spow\"], 3],\n",
    "                    3,\n",
    "                    [\"<=\", [\"get\", \"Log_spow\"], 4],\n",
    "                    4,\n",
    "                    [\"<=\", [\"get\", \"Log_spow\"], 5],\n",
    "                    5,\n",
    "                    6,\n",
    "                ],\n",
    "            },\n",
    "        }\n",
    "    ],\n",
    "}\n",
    "vga.set_plugin_props(\n",
    "    gl_layer,\n",
    "    {\n",
    "        \"displayName\": \"Vector\",\n",
    "        \"type\": \"overlay\",\n",
    "        \"active\": True,\n",
    "        \"metadataStateKey\": \"gwf-default.metadata\",\n",
    "        \"style\": gl_layer_style,\n",
    "        \"eventLayerId\": \"overlay\"\n",
    "    },\n",
    ")"
   ]
  },
  {
   "cell_type": "code",
   "execution_count": null,
   "id": "b7b9bf98",
   "metadata": {
    "title": "add metadata"
   },
   "outputs": [],
   "source": [
    "metadata = vga.add_plugin(\n",
    "    config=vis_config, name=gwfvisconf.PluginNames.METADATA, container=\"sidebar\"\n",
    ")"
   ]
  },
  {
   "cell_type": "code",
   "execution_count": null,
   "id": "85b82903",
   "metadata": {
    "title": "option1: print the config JSON"
   },
   "outputs": [],
   "source": [
    "print(json.dumps(vis_config))"
   ]
  },
  {
   "cell_type": "code",
   "execution_count": null,
   "id": "844bcee8",
   "metadata": {
    "title": "option2: print the URL"
   },
   "outputs": [],
   "source": [
    "print(vga.generate_vis_url(vis_config))"
   ]
  },
  {
   "cell_type": "code",
   "execution_count": null,
   "id": "819eafa7",
   "metadata": {
    "title": "option3: save as a config file"
   },
   "outputs": [],
   "source": [
    "config_directory = \"../out\"\n",
    "config_file_name = \"gloric_tiles.vgaconf\"\n",
    "if not os.path.exists(config_directory):\n",
    "    os.makedirs(config_directory)\n",
    "with open(f\"{config_directory}/{config_file_name}\", \"w\") as file:\n",
    "    file.write(json.dumps(vis_config))"
   ]
  },
  {
   "cell_type": "code",
   "execution_count": null,
   "id": "2a5d2e63",
   "metadata": {},
   "outputs": [],
   "source": []
  }
 ],
 "metadata": {
  "jupytext": {
   "cell_metadata_filter": "title,-all",
   "main_language": "python",
   "notebook_metadata_filter": "-all"
  }
 },
 "nbformat": 4,
 "nbformat_minor": 5
}
