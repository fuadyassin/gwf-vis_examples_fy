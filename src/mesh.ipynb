{
 "cells": [
  {
   "cell_type": "code",
   "execution_count": null,
   "id": "8a83e7f1",
   "metadata": {},
   "outputs": [],
   "source": [
    "! pip install git+https://github.com/vga-team/py-lib.git\n",
    "! pip install git+https://github.com/vga-team/gwf-vis_lib.git"
   ]
  },
  {
   "cell_type": "code",
   "execution_count": null,
   "id": "89fe8122",
   "metadata": {
    "title": "import"
   },
   "outputs": [],
   "source": [
    "import vga\n",
    "from gwfvis import conf as gwfvisconf\n",
    "import json\n",
    "import os"
   ]
  },
  {
   "cell_type": "code",
   "execution_count": null,
   "id": "a336fd6a",
   "metadata": {
    "title": "config"
   },
   "outputs": [],
   "source": [
    "vis_config = gwfvisconf.create_config()\n",
    "vga.set_view(vis_config, center=[51.3, -116], zoom=10)\n",
    "vga.set_page_title(vis_config, \"GWF-VIS MESH\")"
   ]
  },
  {
   "cell_type": "code",
   "execution_count": null,
   "id": "86f25322",
   "metadata": {
    "title": "setup data provider"
   },
   "outputs": [],
   "source": [
    "data_provider_plugin = vga.add_plugin(\n",
    "    vis_config, name=gwfvisconf.PluginNames.SQLITE_LOCAL_DATA_PROVIDER\n",
    ")\n",
    "data_provider_plugin = vga.add_plugin(\n",
    "    vis_config, name=gwfvisconf.PluginNames.GWFVISDB_DATA_PROVIDER\n",
    ")"
   ]
  },
  {
   "cell_type": "code",
   "execution_count": null,
   "id": "69f3ee96",
   "metadata": {
    "lines_to_next_cell": 0,
    "title": "add MESH layer"
   },
   "outputs": [],
   "source": [
    "data_source = \"gwfvisdb:https://gwf-vis.usask.ca/assets/datasets/mesh.new.gwfvisdb\"\n",
    "mesh_layer = vga.add_plugin(\n",
    "    config=vis_config, name=gwfvisconf.PluginNames.GEOJSON_LAYER\n",
    ")\n",
    "vga.set_plugin_props(\n",
    "    mesh_layer, {\"displayName\": \"MESH\", \"layerType\": \"overlay\", \"active\": True}\n",
    ")"
   ]
  },
  {
   "cell_type": "code",
   "execution_count": null,
   "id": "d00ebf73",
   "metadata": {
    "title": "add data control"
   },
   "outputs": [],
   "source": [
    "data_control = vga.add_plugin(\n",
    "    config=vis_config,\n",
    "    name=gwfvisconf.PluginNames.DATA_CONTROL,\n",
    "    container=\"main\",\n",
    "    props={\"dataSources\": [data_source], \"dataSourceDict\": {\"MESH\": data_source}},\n",
    ")"
   ]
  },
  {
   "cell_type": "code",
   "execution_count": null,
   "id": "b8b06523",
   "metadata": {
    "title": "add location pins"
   },
   "outputs": [],
   "source": [
    "location_pin = vga.add_plugin(\n",
    "    config=vis_config,\n",
    "    name=gwfvisconf.PluginNames.LOCATION_PIN,\n",
    "    container=\"sidebar\",\n",
    "    container_props={\"slot\": \"top\"},\n",
    ")"
   ]
  },
  {
   "cell_type": "code",
   "execution_count": null,
   "id": "600363d9",
   "metadata": {
    "title": "add metadata"
   },
   "outputs": [],
   "source": [
    "metadata = vga.add_plugin(\n",
    "    config=vis_config, name=gwfvisconf.PluginNames.METADATA, container=\"sidebar\"\n",
    ")"
   ]
  },
  {
   "cell_type": "code",
   "execution_count": null,
   "id": "c03b2ab6",
   "metadata": {
    "title": "add line chart"
   },
   "outputs": [],
   "source": [
    "line_chart = vga.add_plugin(\n",
    "    config=vis_config,\n",
    "    name=gwfvisconf.PluginNames.LINE_CHART,\n",
    "    container=\"sidebar\",\n",
    "    props={\n",
    "        \"header\": \"Selected Variable\", \n",
    "        \"dataFor\": {\"dimensionName\": \"time\", \"dataSource\": data_source}\n",
    "    },\n",
    ")"
   ]
  },
  {
   "cell_type": "code",
   "execution_count": null,
   "id": "016bcd04",
   "metadata": {
    "lines_to_next_cell": 2,
    "title": "add line chart"
   },
   "outputs": [],
   "source": [
    "fixed_variable_line_chart = vga.add_plugin(\n",
    "    config=vis_config,\n",
    "    name=gwfvisconf.PluginNames.LINE_CHART,\n",
    "    container=\"sidebar\",\n",
    "    props={\n",
    "        \"header\": \"STGW and SNO\",\n",
    "        \"dataFor\": {\n",
    "            \"variableNames\": [\n",
    "                \"STGW\",\n",
    "                \"SNO\",\n",
    "            ],\n",
    "            \"dimensionName\": \"time\",\n",
    "            \"dataSource\": data_source,\n",
    "        }\n",
    "    },\n",
    ")"
   ]
  },
  {
   "cell_type": "code",
   "execution_count": null,
   "id": "f947f489",
   "metadata": {
    "title": "add legend"
   },
   "outputs": [],
   "source": [
    "legend = vga.add_plugin(\n",
    "    config=vis_config,\n",
    "    name=gwfvisconf.PluginNames.LEGEND,\n",
    "    container=\"main\",\n",
    "    container_props={\"width\": \"20rem\"},\n",
    ")"
   ]
  },
  {
   "cell_type": "code",
   "execution_count": null,
   "id": "658b8618",
   "metadata": {
    "title": "option1: print the config JSON"
   },
   "outputs": [],
   "source": [
    "print(json.dumps(vis_config))"
   ]
  },
  {
   "cell_type": "code",
   "execution_count": null,
   "id": "633b3ab9",
   "metadata": {
    "title": "option2: print the URL"
   },
   "outputs": [],
   "source": [
    "print(vga.generate_vis_url(vis_config))"
   ]
  },
  {
   "cell_type": "code",
   "execution_count": null,
   "id": "2050fb2c",
   "metadata": {
    "title": "option3: save as a config file"
   },
   "outputs": [],
   "source": [
    "config_directory = \"../out\"\n",
    "config_file_name = \"mesh.vgaconf\"\n",
    "if not os.path.exists(config_directory):\n",
    "    os.makedirs(config_directory)\n",
    "with open(f\"{config_directory}/{config_file_name}\", 'w') as file:\n",
    "    file.write(json.dumps(vis_config))"
   ]
  },
  {
   "cell_type": "code",
   "execution_count": null,
   "id": "5e53fecf",
   "metadata": {},
   "outputs": [],
   "source": []
  }
 ],
 "metadata": {
  "jupytext": {
   "cell_metadata_filter": "title,-all",
   "main_language": "python",
   "notebook_metadata_filter": "-all"
  }
 },
 "nbformat": 4,
 "nbformat_minor": 5
}
