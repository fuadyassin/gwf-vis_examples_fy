{
 "cells": [
  {
   "cell_type": "code",
   "execution_count": null,
   "id": "96c00978",
   "metadata": {},
   "outputs": [],
   "source": [
    "! pip install git+https://github.com/vga-team/py-lib.git\n",
    "! pip install git+https://github.com/vga-team/gwf-vis_lib.git"
   ]
  },
  {
   "cell_type": "code",
   "execution_count": null,
   "id": "95bd92c1",
   "metadata": {
    "title": "import"
   },
   "outputs": [],
   "source": [
    "import vga\n",
    "from gwfvis import conf as gwfvisconf\n",
    "import json\n",
    "import os"
   ]
  },
  {
   "cell_type": "code",
   "execution_count": null,
   "id": "02b639a0",
   "metadata": {
    "title": "config"
   },
   "outputs": [],
   "source": [
    "vis_config = gwfvisconf.create_config()\n",
    "vga.set_view(vis_config, center=[51.3, -116], zoom=10)\n",
    "vga.set_page_title(vis_config, \"GWF-VIS MESH (local)\")\n",
    "\n",
    "# REQUEST LOCAL FILE ACCESS PERMISSION\n",
    "vga.set_access_local_files(vis_config, True)\n",
    "\n",
    "# NEED TO MAKE SURE THE PATH EXISTS WITHIN THE ROOT DIRECTORY THAT WOULD BE ASKED TO SELECT WHEN THE VIS LOADED\n",
    "local_file_path = \"test/mesh.gwfvisdb\""
   ]
  },
  {
   "cell_type": "code",
   "execution_count": null,
   "id": "b9aa0fd4",
   "metadata": {
    "title": "setup data provider"
   },
   "outputs": [],
   "source": [
    "data_provider_plugin = vga.add_plugin(\n",
    "    vis_config, name=gwfvisconf.PluginNames.SQLITE_LOCAL_DATA_PROVIDER\n",
    ")\n",
    "data_provider_plugin = vga.add_plugin(\n",
    "    vis_config, name=gwfvisconf.PluginNames.GWFVISDB_DATA_PROVIDER\n",
    ")"
   ]
  },
  {
   "cell_type": "code",
   "execution_count": null,
   "id": "ff6c0a00",
   "metadata": {
    "lines_to_next_cell": 0,
    "title": "add MESH layer"
   },
   "outputs": [],
   "source": [
    "data_source = f\"gwfvisdb:file:{local_file_path}\"\n",
    "mesh_layer = vga.add_plugin(\n",
    "    config=vis_config, name=gwfvisconf.PluginNames.GEOJSON_LAYER\n",
    ")\n",
    "vga.set_plugin_props(\n",
    "    mesh_layer, {\"displayName\": \"MESH\", \"layerType\": \"overlay\", \"active\": True}\n",
    ")"
   ]
  },
  {
   "cell_type": "code",
   "execution_count": null,
   "id": "434abd78",
   "metadata": {
    "title": "add data control"
   },
   "outputs": [],
   "source": [
    "data_control = vga.add_plugin(\n",
    "    config=vis_config,\n",
    "    name=gwfvisconf.PluginNames.DATA_CONTROL,\n",
    "    container=\"main\",\n",
    "    props={\"dataSources\": [data_source], \"dataSourceDict\": {\"MESH\": data_source}},\n",
    ")"
   ]
  },
  {
   "cell_type": "code",
   "execution_count": null,
   "id": "225b73fb",
   "metadata": {
    "title": "add location pins"
   },
   "outputs": [],
   "source": [
    "metadata = vga.add_plugin(\n",
    "    config=vis_config,\n",
    "    name=gwfvisconf.PluginNames.LOCATION_PIN,\n",
    "    container=\"sidebar\",\n",
    "    container_props={\"slot\": \"top\"},\n",
    ")"
   ]
  },
  {
   "cell_type": "code",
   "execution_count": null,
   "id": "87669d94",
   "metadata": {
    "title": "add metadata"
   },
   "outputs": [],
   "source": [
    "metadata = vga.add_plugin(\n",
    "    config=vis_config, name=gwfvisconf.PluginNames.METADATA, container=\"sidebar\"\n",
    ")"
   ]
  },
  {
   "cell_type": "code",
   "execution_count": null,
   "id": "171099a0",
   "metadata": {
    "title": "add line chart"
   },
   "outputs": [],
   "source": [
    "metadata = vga.add_plugin(\n",
    "    config=vis_config,\n",
    "    name=gwfvisconf.PluginNames.LINE_CHART,\n",
    "    container=\"sidebar\",\n",
    "    props={\"dataFor\": {\"dimensionName\": \"time\", \"dataSource\": data_source}},\n",
    ")"
   ]
  },
  {
   "cell_type": "code",
   "execution_count": null,
   "id": "5ab92adc",
   "metadata": {
    "lines_to_next_cell": 2,
    "title": "add line chart"
   },
   "outputs": [],
   "source": [
    "metadata = vga.add_plugin(\n",
    "    config=vis_config,\n",
    "    name=gwfvisconf.PluginNames.LINE_CHART,\n",
    "    container=\"sidebar\",\n",
    "    props={\n",
    "        \"dataFor\": {\n",
    "            \"variableNames\": [\n",
    "                \"STGW\",\n",
    "                \"SNO\",\n",
    "            ],\n",
    "            \"dimensionName\": \"time\",\n",
    "            \"dataSource\": data_source,\n",
    "        }\n",
    "    },\n",
    ")"
   ]
  },
  {
   "cell_type": "code",
   "execution_count": null,
   "id": "5bdd4e87",
   "metadata": {
    "title": "add legend"
   },
   "outputs": [],
   "source": [
    "legend = vga.add_plugin(\n",
    "    config=vis_config,\n",
    "    name=gwfvisconf.PluginNames.LEGEND,\n",
    "    container=\"main\",\n",
    "    container_props={\"width\": \"20rem\"},\n",
    ")"
   ]
  },
  {
   "cell_type": "code",
   "execution_count": null,
   "id": "c5216dba",
   "metadata": {
    "title": "option1: print the config JSON"
   },
   "outputs": [],
   "source": [
    "print(json.dumps(vis_config))"
   ]
  },
  {
   "cell_type": "code",
   "execution_count": null,
   "id": "d6725693",
   "metadata": {
    "title": "option2: print the URL"
   },
   "outputs": [],
   "source": [
    "print(vga.generate_vis_url(vis_config))"
   ]
  },
  {
   "cell_type": "code",
   "execution_count": null,
   "id": "ae53b881",
   "metadata": {
    "title": "option3: save as a config file"
   },
   "outputs": [],
   "source": [
    "config_directory = \"../out\"\n",
    "config_file_name = \"mesh_local_file.vgaconf\"\n",
    "if not os.path.exists(config_directory):\n",
    "    os.makedirs(config_directory)\n",
    "with open(f\"{config_directory}/{config_file_name}\", 'w') as file:\n",
    "    file.write(json.dumps(vis_config))"
   ]
  },
  {
   "cell_type": "code",
   "execution_count": null,
   "id": "8dde5b77",
   "metadata": {},
   "outputs": [],
   "source": []
  }
 ],
 "metadata": {
  "jupytext": {
   "cell_metadata_filter": "title,-all",
   "main_language": "python",
   "notebook_metadata_filter": "-all"
  }
 },
 "nbformat": 4,
 "nbformat_minor": 5
}
