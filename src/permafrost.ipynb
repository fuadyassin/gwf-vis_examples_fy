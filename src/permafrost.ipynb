{
 "cells": [
  {
   "cell_type": "code",
   "execution_count": null,
   "id": "97aecc9c",
   "metadata": {
    "title": "install"
   },
   "outputs": [],
   "source": [
    "! pip install git+https://github.com/vga-team/py-lib.git\n",
    "! pip install git+https://github.com/vga-team/gwf-vis_lib.git"
   ]
  },
  {
   "cell_type": "code",
   "execution_count": null,
   "id": "b518825d",
   "metadata": {
    "title": "import"
   },
   "outputs": [],
   "source": [
    "import vga\n",
    "from gwfvis import conf as gwfvisconf\n",
    "import json\n",
    "import os"
   ]
  },
  {
   "cell_type": "code",
   "execution_count": null,
   "id": "e1b95b32",
   "metadata": {
    "title": "config"
   },
   "outputs": [],
   "source": [
    "vis_config = gwfvisconf.create_config()\n",
    "vga.set_view(vis_config, center=[56.4, -123.2], zoom=6)\n",
    "vga.set_page_title(vis_config, \"GWF-VIS Permafrost\")"
   ]
  },
  {
   "cell_type": "code",
   "execution_count": null,
   "id": "08d5c6e3",
   "metadata": {
    "title": "setup data provider"
   },
   "outputs": [],
   "source": [
    "data_provider_plugin = vga.add_plugin(\n",
    "    vis_config, name=gwfvisconf.PluginNames.SQLITE_LOCAL_DATA_PROVIDER\n",
    ")\n",
    "data_provider_plugin = vga.add_plugin(\n",
    "    vis_config, name=gwfvisconf.PluginNames.GWFVISDB_DATA_PROVIDER\n",
    ")"
   ]
  },
  {
   "cell_type": "code",
   "execution_count": null,
   "id": "80f5d0a0",
   "metadata": {
    "title": "define color scheme"
   },
   "outputs": [],
   "source": [
    "thresholds = [20, 60, 120, 180, 250]\n",
    "\n",
    "color_scheme = {\n",
    "    \"\": {\n",
    "        \"type\": \"threshold\",\n",
    "        \"thresholds\": thresholds,\n",
    "        \"scheme\": [\"azure\", \"blue\", \"green\", \"yellow\", \"orange\", \"red\"],\n",
    "    }\n",
    "}"
   ]
  },
  {
   "cell_type": "code",
   "execution_count": null,
   "id": "1eeb25a4",
   "metadata": {
    "title": "add permafrost layers"
   },
   "outputs": [],
   "source": [
    "data_source = \"gwfvisdb:https://gwf-vis.usask.ca/assets/datasets/permafrost-reduced-locations.gwfvisdb\"\n",
    "contour_layer = vga.add_plugin(\n",
    "    config=vis_config,\n",
    "    name=gwfvisconf.PluginNames.CONTOUR_LAYER,\n",
    "    props={\n",
    "        \"colorScheme\": color_scheme,\n",
    "        \"displayName\": \"Permafrost Contours\",\n",
    "        \"lineWeight\": 1,\n",
    "        \"opacity\": 0.3,\n",
    "        \"layerType\": \"overlay\",\n",
    "        \"active\": True,\n",
    "    },\n",
    ")\n",
    "point_layer = vga.add_plugin(\n",
    "    config=vis_config,\n",
    "    name=gwfvisconf.PluginNames.GEOJSON_LAYER,\n",
    "    props={\n",
    "        \"colorScheme\": color_scheme,\n",
    "        \"displayName\": \"Permafrost Points\",\n",
    "        \"layerType\": \"overlay\",\n",
    "        \"pointSize\": 5,\n",
    "        \"active\": False,\n",
    "    },\n",
    ")"
   ]
  },
  {
   "cell_type": "code",
   "execution_count": null,
   "id": "2b9485a3",
   "metadata": {
    "title": "add location pins"
   },
   "outputs": [],
   "source": [
    "metadata = vga.add_plugin(\n",
    "    config=vis_config,\n",
    "    name=gwfvisconf.PluginNames.LOCATION_PIN,\n",
    "    container=\"sidebar\",\n",
    "    container_props={\"slot\": \"top\"},\n",
    ")"
   ]
  },
  {
   "cell_type": "code",
   "execution_count": null,
   "id": "5d1510ef",
   "metadata": {
    "title": "add data control"
   },
   "outputs": [],
   "source": [
    "data_control = vga.add_plugin(\n",
    "    config=vis_config,\n",
    "    name=gwfvisconf.PluginNames.DATA_CONTROL,\n",
    "    container=\"sidebar\",\n",
    "    props={\"dataSources\": [data_source], \"dataSourceDict\": {\"Permafrost\": data_source}},\n",
    "    container_props={\"slot\": \"top\"},\n",
    ")"
   ]
  },
  {
   "cell_type": "code",
   "execution_count": null,
   "id": "3728844d",
   "metadata": {
    "lines_to_next_cell": 2,
    "title": "add line charts"
   },
   "outputs": [],
   "source": [
    "line_chart_cycle = vga.add_plugin(\n",
    "    config=vis_config,\n",
    "    name=gwfvisconf.PluginNames.LINE_CHART,\n",
    "    container=\"sidebar\",\n",
    "    props={\n",
    "        \"header\": \"cycle\",\n",
    "        \"dataFor\": {\n",
    "            \"dimensionName\": \"cycle\",\n",
    "            \"dataSource\": data_source,\n",
    "            \"variableNames\": [\"TSOL_MIN\", \"TSOL_MAX\"],\n",
    "        },\n",
    "    },\n",
    ")\n",
    "\n",
    "line_chart_gru = vga.add_plugin(\n",
    "    config=vis_config,\n",
    "    name=gwfvisconf.PluginNames.LINE_CHART,\n",
    "    container=\"sidebar\",\n",
    "    props={\n",
    "        \"header\": \"gru\",\n",
    "        \"dataFor\": {\n",
    "            \"dimensionName\": \"gru\",\n",
    "            \"dataSource\": data_source,\n",
    "            \"variableNames\": [\"TSOL_MIN\", \"TSOL_MAX\"],\n",
    "        },\n",
    "    },\n",
    ")\n",
    "\n",
    "line_chart_level = vga.add_plugin(\n",
    "    config=vis_config,\n",
    "    name=gwfvisconf.PluginNames.LINE_CHART,\n",
    "    container=\"main\",\n",
    "    props={\n",
    "        \"header\": \"level\",\n",
    "        \"dataFor\": {\n",
    "            \"dimensionName\": \"level\",\n",
    "            \"dataSource\": data_source,\n",
    "            \"variableNames\": [\"TSOL_MIN\", \"TSOL_MAX\"],\n",
    "        },\n",
    "    },\n",
    "    container_props={\"width\": \"100vw\"},\n",
    ")"
   ]
  },
  {
   "cell_type": "code",
   "execution_count": null,
   "id": "a7e48efa",
   "metadata": {
    "title": "add legend"
   },
   "outputs": [],
   "source": [
    "legend = vga.add_plugin(\n",
    "    config=vis_config,\n",
    "    name=gwfvisconf.PluginNames.LEGEND,\n",
    "    container=\"main\",\n",
    "    container_props={\"width\": \"20rem\"},\n",
    "    props={\n",
    "        \"colorScheme\": color_scheme,\n",
    "    },\n",
    ")"
   ]
  },
  {
   "cell_type": "code",
   "execution_count": null,
   "id": "1964c2dc",
   "metadata": {
    "title": "option1: print the config JSON"
   },
   "outputs": [],
   "source": [
    "print(json.dumps(vis_config))"
   ]
  },
  {
   "cell_type": "code",
   "execution_count": null,
   "id": "42893e11",
   "metadata": {
    "title": "option2: print the URL"
   },
   "outputs": [],
   "source": [
    "print(vga.generate_vis_url(vis_config))"
   ]
  },
  {
   "cell_type": "code",
   "execution_count": null,
   "id": "bf1d5803",
   "metadata": {
    "title": "option3: save as a config file"
   },
   "outputs": [],
   "source": [
    "config_directory = \"../out\"\n",
    "config_file_name = \"permafrost.vgaconf\"\n",
    "if not os.path.exists(config_directory):\n",
    "    os.makedirs(config_directory)\n",
    "with open(f\"{config_directory}/{config_file_name}\", \"w\") as file:\n",
    "    file.write(json.dumps(vis_config))"
   ]
  },
  {
   "cell_type": "code",
   "execution_count": null,
   "id": "ff1059ef",
   "metadata": {},
   "outputs": [],
   "source": []
  }
 ],
 "metadata": {
  "jupytext": {
   "cell_metadata_filter": "title,-all",
   "main_language": "python",
   "notebook_metadata_filter": "-all"
  }
 },
 "nbformat": 4,
 "nbformat_minor": 5
}
