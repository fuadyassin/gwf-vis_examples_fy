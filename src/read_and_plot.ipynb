{
 "cells": [
  {
   "cell_type": "code",
   "execution_count": null,
   "id": "269d12f3",
   "metadata": {},
   "outputs": [],
   "source": [
    "! pip install git+https://github.com/vga-team/py-lib.git\n",
    "! pip install git+https://github.com/vga-team/gwf-vis_lib.git\n",
    "! pip install numpy==1.26.0\n",
    "! pip install matplotlib==3.8.3\n",
    "! pip install basemap==1.4.1"
   ]
  },
  {
   "cell_type": "code",
   "execution_count": null,
   "id": "0f8f5208",
   "metadata": {
    "lines_to_next_cell": 2,
    "title": "import"
   },
   "outputs": [],
   "source": [
    "from gwfvis import db as gwfvisdb\n",
    "import json\n",
    "import urllib.request\n",
    "import os\n",
    "import numpy as np\n",
    "import matplotlib.pyplot as plt\n",
    "from mpl_toolkits.basemap import Basemap"
   ]
  },
  {
   "cell_type": "code",
   "execution_count": null,
   "id": "1a1776ce",
   "metadata": {
    "title": "download the gwfvisdb file"
   },
   "outputs": [],
   "source": [
    "gwfvisdb_url = \"https://gwf-vis.usask.ca/assets/datasets/stations.gwfvisdb\"\n",
    "gwfvisdb_path = \"../temp/_.gwfvisdb\"\n",
    "gwfvisdb_directory = os.path.dirname(gwfvisdb_path)\n",
    "if not os.path.exists(gwfvisdb_directory):\n",
    "    os.makedirs(gwfvisdb_directory)\n",
    "urllib.request.urlretrieve(gwfvisdb_url, gwfvisdb_path)"
   ]
  },
  {
   "cell_type": "code",
   "execution_count": null,
   "id": "36251c79",
   "metadata": {
    "lines_to_next_cell": 1,
    "title": "read the db file"
   },
   "outputs": [],
   "source": [
    "options = gwfvisdb.read_gwfvis_db(gwfvisdb_path)"
   ]
  },
  {
   "cell_type": "code",
   "execution_count": null,
   "id": "b1107b27",
   "metadata": {
    "title": "generate figure"
   },
   "outputs": [],
   "source": [
    "def generate_figure():\n",
    "    locations = options.locations\n",
    "\n",
    "    geometries = list(map(lambda location: location.geometry, locations))\n",
    "    xs = list(map(lambda geometry: geometry[\"coordinates\"][0], geometries))\n",
    "    ys = list(map(lambda geometry: geometry[\"coordinates\"][1], geometries))\n",
    "\n",
    "    fig = plt.figure(figsize=(8, 8))\n",
    "    m = Basemap(projection='lcc', resolution=None,\n",
    "                width=8E6, height=8E6, \n",
    "                lat_0=45, lon_0=-100)\n",
    "    m.etopo(scale=0.5, alpha=0.5)\n",
    "    m.scatter(xs, ys, latlon=True, alpha=0.5)\n",
    "    fig.tight_layout(pad=0)\n",
    "\n",
    "    return fig\n",
    "\n",
    "generate_figure().show()"
   ]
  },
  {
   "cell_type": "code",
   "execution_count": null,
   "id": "17ab13ef",
   "metadata": {
    "title": "save the plot as a file"
   },
   "outputs": [],
   "source": [
    "out_directory = \"../out\"\n",
    "out_file_name = \"stations.jpg\"\n",
    "if not os.path.exists(out_directory):\n",
    "    os.makedirs(out_directory)\n",
    "generate_figure().savefig(f'{out_directory}/{out_file_name}')"
   ]
  },
  {
   "cell_type": "code",
   "execution_count": null,
   "id": "36a4daa5",
   "metadata": {},
   "outputs": [],
   "source": []
  }
 ],
 "metadata": {
  "jupytext": {
   "cell_metadata_filter": "title,-all",
   "main_language": "python",
   "notebook_metadata_filter": "-all"
  }
 },
 "nbformat": 4,
 "nbformat_minor": 5
}
