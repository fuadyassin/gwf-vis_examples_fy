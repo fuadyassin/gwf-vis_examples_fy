{
 "cells": [
  {
   "cell_type": "code",
   "execution_count": null,
   "id": "6e73c807",
   "metadata": {},
   "outputs": [],
   "source": [
    "! pip install git+https://github.com/vga-team/py-lib.git\n",
    "! pip install git+https://github.com/vga-team/gwf-vis_lib.git"
   ]
  },
  {
   "cell_type": "code",
   "execution_count": null,
   "id": "97f3e1b1",
   "metadata": {
    "lines_to_next_cell": 2,
    "title": "import"
   },
   "outputs": [],
   "source": [
    "from gwfvis import db as gwfvisdb\n",
    "import json\n",
    "import urllib.request\n",
    "import os"
   ]
  },
  {
   "cell_type": "code",
   "execution_count": null,
   "id": "ed3d62ed",
   "metadata": {
    "title": "download the gwfvisdb file"
   },
   "outputs": [],
   "source": [
    "gwfvisdb_url = (\n",
    "    \"https://gwf-vis.usask.ca/assets/datasets/mesh.new.gwfvisdb\"\n",
    ")\n",
    "gwfvisdb_path = \"../temp/_.gwfvisdb\"\n",
    "gwfvisdb_directory = os.path.dirname(gwfvisdb_path)\n",
    "if not os.path.exists(gwfvisdb_directory):\n",
    "    os.makedirs(gwfvisdb_directory)\n",
    "urllib.request.urlretrieve(gwfvisdb_url, gwfvisdb_path)"
   ]
  },
  {
   "cell_type": "code",
   "execution_count": null,
   "id": "2abf2281",
   "metadata": {
    "title": "read the db file"
   },
   "outputs": [],
   "source": [
    "options = gwfvisdb.read_gwfvis_db(gwfvisdb_path)"
   ]
  },
  {
   "cell_type": "code",
   "execution_count": null,
   "id": "f4b21879",
   "metadata": {
    "title": "info"
   },
   "outputs": [],
   "source": [
    "options.info"
   ]
  },
  {
   "cell_type": "code",
   "execution_count": null,
   "id": "c4186ba6",
   "metadata": {
    "title": "locations"
   },
   "outputs": [],
   "source": [
    "options.locations"
   ]
  },
  {
   "cell_type": "code",
   "execution_count": null,
   "id": "4e23f9b5",
   "metadata": {
    "title": "dimensions"
   },
   "outputs": [],
   "source": [
    "options.dimensions"
   ]
  },
  {
   "cell_type": "code",
   "execution_count": null,
   "id": "64313d2e",
   "metadata": {
    "title": "variables"
   },
   "outputs": [],
   "source": [
    "options.variables"
   ]
  },
  {
   "cell_type": "code",
   "execution_count": null,
   "id": "9d3f5005",
   "metadata": {
    "title": "values"
   },
   "outputs": [],
   "source": [
    "options.values"
   ]
  },
  {
   "cell_type": "code",
   "execution_count": null,
   "id": "474a502b",
   "metadata": {},
   "outputs": [],
   "source": []
  }
 ],
 "metadata": {
  "jupytext": {
   "cell_metadata_filter": "title,-all",
   "main_language": "python",
   "notebook_metadata_filter": "-all"
  }
 },
 "nbformat": 4,
 "nbformat_minor": 5
}
