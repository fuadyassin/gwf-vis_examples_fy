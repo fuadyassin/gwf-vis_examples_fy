{
 "cells": [
  {
   "cell_type": "code",
   "execution_count": null,
   "id": "b49b7f12",
   "metadata": {},
   "outputs": [],
   "source": [
    "! pip install git+https://github.com/vga-team/py-lib.git\n",
    "! pip install git+https://github.com/vga-team/gwf-vis_lib.git"
   ]
  },
  {
   "cell_type": "code",
   "execution_count": null,
   "id": "5248e659",
   "metadata": {
    "title": "import"
   },
   "outputs": [],
   "source": [
    "import vga\n",
    "from gwfvis import conf as gwfvisconf\n",
    "import json\n",
    "import os"
   ]
  },
  {
   "cell_type": "code",
   "execution_count": null,
   "id": "a2e392d6",
   "metadata": {
    "title": "config"
   },
   "outputs": [],
   "source": [
    "vis_config = gwfvisconf.create_config()\n",
    "vga.set_view(vis_config, center=[51.3, -116], zoom=10)\n",
    "vga.set_page_title(vis_config, \"GWF-VIS SUMMA\")"
   ]
  },
  {
   "cell_type": "code",
   "execution_count": null,
   "id": "7296437b",
   "metadata": {
    "title": "setup data provider"
   },
   "outputs": [],
   "source": [
    "data_provider_plugin = vga.add_plugin(\n",
    "    vis_config, name=gwfvisconf.PluginNames.SQLITE_LOCAL_DATA_PROVIDER\n",
    ")\n",
    "data_provider_plugin = vga.add_plugin(\n",
    "    vis_config, name=gwfvisconf.PluginNames.GWFVISDB_DATA_PROVIDER\n",
    ")"
   ]
  },
  {
   "cell_type": "code",
   "execution_count": null,
   "id": "94971d58",
   "metadata": {
    "lines_to_next_cell": 0,
    "title": "add SUMMA layer"
   },
   "outputs": [],
   "source": [
    "data_source = \"gwfvisdb:https://gwf-vis.usask.ca/assets/datasets/catchment.gwfvisdb\"\n",
    "summa_layer = vga.add_plugin(\n",
    "    config=vis_config, name=gwfvisconf.PluginNames.GEOJSON_LAYER\n",
    ")\n",
    "vga.set_plugin_props(\n",
    "    summa_layer, {\"displayName\": \"SUMMA\", \"layerType\": \"overlay\", \"active\": True}\n",
    ")"
   ]
  },
  {
   "cell_type": "code",
   "execution_count": null,
   "id": "c5494ae4",
   "metadata": {
    "title": "add data control"
   },
   "outputs": [],
   "source": [
    "data_control = vga.add_plugin(\n",
    "    config=vis_config,\n",
    "    name=gwfvisconf.PluginNames.DATA_CONTROL,\n",
    "    container=\"main\",\n",
    "    props={\"dataSources\": [data_source], \"dataSourceDict\": {\"SUMMA\": data_source}},\n",
    ")"
   ]
  },
  {
   "cell_type": "code",
   "execution_count": null,
   "id": "f081f7b2",
   "metadata": {
    "title": "add location pins"
   },
   "outputs": [],
   "source": [
    "metadata = vga.add_plugin(\n",
    "    config=vis_config,\n",
    "    name=gwfvisconf.PluginNames.LOCATION_PIN,\n",
    "    container=\"sidebar\",\n",
    "    container_props={\"slot\": \"top\"},\n",
    ")"
   ]
  },
  {
   "cell_type": "code",
   "execution_count": null,
   "id": "0fae3b11",
   "metadata": {
    "title": "add metadata"
   },
   "outputs": [],
   "source": [
    "metadata = vga.add_plugin(\n",
    "    config=vis_config, name=gwfvisconf.PluginNames.METADATA, container=\"sidebar\"\n",
    ")"
   ]
  },
  {
   "cell_type": "code",
   "execution_count": null,
   "id": "cdf46b66",
   "metadata": {
    "title": "add line chart"
   },
   "outputs": [],
   "source": [
    "metadata = vga.add_plugin(\n",
    "    config=vis_config,\n",
    "    name=gwfvisconf.PluginNames.LINE_CHART,\n",
    "    container=\"sidebar\",\n",
    "    props={\"dataFor\": {\"dimensionName\": \"time\", \"dataSource\": data_source}},\n",
    ")"
   ]
  },
  {
   "cell_type": "code",
   "execution_count": null,
   "id": "b1258398",
   "metadata": {
    "lines_to_next_cell": 2,
    "title": "add line chart"
   },
   "outputs": [],
   "source": [
    "metadata = vga.add_plugin(\n",
    "    config=vis_config,\n",
    "    name=gwfvisconf.PluginNames.LINE_CHART,\n",
    "    container=\"sidebar\",\n",
    "    props={\n",
    "        \"dataFor\": {\n",
    "            \"variableNames\": [\n",
    "                \"scalarAquiferBaseflow\",\n",
    "                \"scalarRainPlusMelt\",\n",
    "                \"scalarTotalRunoff\",\n",
    "            ],\n",
    "            \"dimensionName\": \"time\",\n",
    "            \"dataSource\": data_source,\n",
    "        }\n",
    "    },\n",
    ")"
   ]
  },
  {
   "cell_type": "code",
   "execution_count": null,
   "id": "fc2e11f8",
   "metadata": {
    "title": "add legend"
   },
   "outputs": [],
   "source": [
    "legend = vga.add_plugin(\n",
    "    config=vis_config,\n",
    "    name=gwfvisconf.PluginNames.LEGEND,\n",
    "    container=\"main\",\n",
    "    container_props={\"width\": \"20rem\"},\n",
    ")"
   ]
  },
  {
   "cell_type": "code",
   "execution_count": null,
   "id": "d9652b68",
   "metadata": {
    "title": "option1: print the config JSON"
   },
   "outputs": [],
   "source": [
    "print(json.dumps(vis_config))"
   ]
  },
  {
   "cell_type": "code",
   "execution_count": null,
   "id": "661ac1a6",
   "metadata": {
    "title": "option2: print the URL"
   },
   "outputs": [],
   "source": [
    "print(vga.generate_vis_url(vis_config))"
   ]
  },
  {
   "cell_type": "code",
   "execution_count": null,
   "id": "504d4a38",
   "metadata": {
    "title": "option3: save as a config file"
   },
   "outputs": [],
   "source": [
    "config_directory = \"../out\"\n",
    "config_file_name = \"summa.vgaconf\"\n",
    "if not os.path.exists(config_directory):\n",
    "    os.makedirs(config_directory)\n",
    "with open(f\"{config_directory}/{config_file_name}\", 'w') as file:\n",
    "    file.write(json.dumps(vis_config))"
   ]
  },
  {
   "cell_type": "code",
   "execution_count": null,
   "id": "1206b0cd",
   "metadata": {},
   "outputs": [],
   "source": []
  }
 ],
 "metadata": {
  "jupytext": {
   "cell_metadata_filter": "title,-all",
   "main_language": "python",
   "notebook_metadata_filter": "-all"
  }
 },
 "nbformat": 4,
 "nbformat_minor": 5
}
