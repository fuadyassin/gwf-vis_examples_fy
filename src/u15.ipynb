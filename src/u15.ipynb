{
 "cells": [
  {
   "cell_type": "code",
   "execution_count": null,
   "id": "3882c51b",
   "metadata": {},
   "outputs": [],
   "source": [
    "! pip install git+https://github.com/vga-team/py-lib.git\n",
    "! pip install git+https://github.com/vga-team/gwf-vis_lib.git"
   ]
  },
  {
   "cell_type": "code",
   "execution_count": null,
   "id": "6624fde4",
   "metadata": {
    "title": "import"
   },
   "outputs": [],
   "source": [
    "import vga\n",
    "from gwfvis import conf as gwfvisconf\n",
    "import json\n",
    "import os"
   ]
  },
  {
   "cell_type": "code",
   "execution_count": null,
   "id": "374a6ff4",
   "metadata": {
    "title": "config"
   },
   "outputs": [],
   "source": [
    "vis_config = gwfvisconf.create_config()\n",
    "vga.set_view(vis_config, center=[51, -115], zoom=5)\n",
    "vga.set_page_title(vis_config, \"GWF-VIS U15\")"
   ]
  },
  {
   "cell_type": "code",
   "execution_count": null,
   "id": "5d8a102e",
   "metadata": {
    "title": "setup data provider"
   },
   "outputs": [],
   "source": [
    "data_provider_plugin = vga.add_plugin(\n",
    "    vis_config, name=gwfvisconf.PluginNames.SQLITE_LOCAL_DATA_PROVIDER\n",
    ")\n",
    "data_provider_plugin = vga.add_plugin(\n",
    "    vis_config, name=gwfvisconf.PluginNames.GWFVISDB_DATA_PROVIDER\n",
    ")"
   ]
  },
  {
   "cell_type": "code",
   "execution_count": null,
   "id": "c2f122a9",
   "metadata": {
    "lines_to_next_cell": 0,
    "title": "add U15 layer"
   },
   "outputs": [],
   "source": [
    "data_source = \"gwfvisdb:https://gwf-vis.usask.ca/assets/datasets/u15.gwfvisdb\"\n",
    "u15_layer = vga.add_plugin(config=vis_config, name=gwfvisconf.PluginNames.GEOJSON_LAYER)\n",
    "vga.set_plugin_props(\n",
    "    u15_layer,\n",
    "    {\n",
    "        \"displayName\": \"U15\",\n",
    "        \"layerType\": \"overlay\",\n",
    "        \"active\": True,\n",
    "        \"pointMode\": \"pushpin\",\n",
    "    },\n",
    ")"
   ]
  },
  {
   "cell_type": "code",
   "execution_count": null,
   "id": "c8b836d8",
   "metadata": {
    "title": "add data control"
   },
   "outputs": [],
   "source": [
    "data_control = vga.add_plugin(\n",
    "    config=vis_config,\n",
    "    name=gwfvisconf.PluginNames.DATA_CONTROL,\n",
    "    container=\"main\",\n",
    "    props={\"dataSources\": [data_source], \"dataSourceDict\": {\"U15\": data_source}},\n",
    ")"
   ]
  },
  {
   "cell_type": "code",
   "execution_count": null,
   "id": "34d700ef",
   "metadata": {
    "title": "add metadata"
   },
   "outputs": [],
   "source": [
    "metadata = vga.add_plugin(\n",
    "    config=vis_config,\n",
    "    name=gwfvisconf.PluginNames.METADATA,\n",
    "    container=\"sidebar\",\n",
    "    container_props={\"slot\": \"top\"},\n",
    ")"
   ]
  },
  {
   "cell_type": "code",
   "execution_count": null,
   "id": "df92cea6",
   "metadata": {
    "title": "option1: print the config JSON"
   },
   "outputs": [],
   "source": [
    "print(json.dumps(vis_config))"
   ]
  },
  {
   "cell_type": "code",
   "execution_count": null,
   "id": "7de76e94",
   "metadata": {
    "title": "option2: print the URL"
   },
   "outputs": [],
   "source": [
    "print(vga.generate_vis_url(vis_config))"
   ]
  },
  {
   "cell_type": "code",
   "execution_count": null,
   "id": "dd42e5d4",
   "metadata": {
    "title": "option3: save as a config file"
   },
   "outputs": [],
   "source": [
    "config_directory = \"../out\"\n",
    "config_file_name = \"u15.vgaconf\"\n",
    "if not os.path.exists(config_directory):\n",
    "    os.makedirs(config_directory)\n",
    "with open(f\"{config_directory}/{config_file_name}\", 'w') as file:\n",
    "    file.write(json.dumps(vis_config))"
   ]
  },
  {
   "cell_type": "code",
   "execution_count": null,
   "id": "08f32d5f",
   "metadata": {},
   "outputs": [],
   "source": []
  }
 ],
 "metadata": {
  "jupytext": {
   "cell_metadata_filter": "title,-all",
   "main_language": "python",
   "notebook_metadata_filter": "-all"
  }
 },
 "nbformat": 4,
 "nbformat_minor": 5
}
